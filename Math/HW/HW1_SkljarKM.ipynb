{
  "nbformat": 4,
  "nbformat_minor": 0,
  "metadata": {
    "colab": {
      "provenance": [],
      "collapsed_sections": [
        "4Hskh6fFb89N"
      ]
    },
    "kernelspec": {
      "name": "python3",
      "display_name": "Python 3"
    },
    "language_info": {
      "name": "python"
    }
  },
  "cells": [
    {
      "cell_type": "markdown",
      "source": [
        "# Нагадування по Markdown"
      ],
      "metadata": {
        "id": "mbmam7xBKWRj"
      }
    },
    {
      "cell_type": "markdown",
      "source": [
        "Надаємо невелике нагадування записів в\n",
        "[Markdown](https://colab.research.google.com/notebooks/markdown_guide.ipynb) (LaTeX):\n",
        "\n",
        "Markdown | Preview\n",
        "--- | ---\n",
        "`**bold text**` | **bold text**\n",
        " \\\\$\\frac{x}{y}\\\\$ | $\\frac{x}{y}$\n",
        " \\\\$p^{x}_{y}\\\\$ | $p^{x}_{y}$\n",
        "\\\\$x \\cdot y\\\\$ | $x \\cdot y$\n",
        "\\\\$\\sqrt{x}\\\\$ | $\\sqrt{x}$\n",
        "\\\\$\\pi\\\\$ | $\\pi$\n",
        "\\\\$\\approx\\\\$ | $\\approx$\n",
        "\n",
        "І ще декілька прикладів:\n",
        "\n",
        "```markdown\n",
        "$y=x^2$\n",
        "\n",
        "$e^{i\\pi} + 1 = 0$\n",
        "\n",
        "$e^x=\\sum_{i=0}^\\infty \\frac{1}{i!}x^i$\n",
        "\n",
        "$\\frac{n!}{k!(n-k)!} = {n \\choose k}$\n",
        "\n",
        "$A_{m,n} =\n",
        " \\begin{pmatrix}\n",
        "  a_{1,1} & a_{1,2} & \\cdots & a_{1,n} \\\\\n",
        "  a_{2,1} & a_{2,2} & \\cdots & a_{2,n} \\\\\n",
        "  \\vdots  & \\vdots  & \\ddots & \\vdots  \\\\\n",
        "  a_{m,1} & a_{m,2} & \\cdots & a_{m,n}\n",
        " \\end{pmatrix}$\n",
        "\n",
        " $$\n",
        " I =\n",
        " \\left (\\begin{array}{cc}\n",
        " 1 & 0\\\\\n",
        " 0 & 1\n",
        " \\end{array}\\right)\n",
        " $$\n",
        "```\n",
        "\n",
        "$y=x^2$\n",
        "\n",
        "$e^{i\\pi} + 1 = 0$\n",
        "\n",
        "$e^x=\\sum_{i=0}^\\infty \\frac{1}{i!}x^i$\n",
        "\n",
        "$\\frac{n!}{k!(n-k)!} = {n \\choose k}$\n",
        "\n",
        "$A_{m,n} =\n",
        " \\begin{pmatrix}\n",
        "  a_{1,1} & a_{1,2} & \\cdots & a_{1,n} \\\\\n",
        "  a_{2,1} & a_{2,2} & \\cdots & a_{2,n} \\\\\n",
        "  \\vdots  & \\vdots  & \\ddots & \\vdots  \\\\\n",
        "  a_{m,1} & a_{m,2} & \\cdots & a_{m,n}\n",
        " \\end{pmatrix}$\n",
        "\n",
        "$I =\n",
        "\\left (\\begin{array}{cc}\n",
        "1 & 0\\\\\n",
        "0 & 1\n",
        "\\end{array}\\right)$\n",
        " ---"
      ],
      "metadata": {
        "id": "WKbf0DcrKYHi"
      }
    },
    {
      "cell_type": "markdown",
      "source": [
        "# Завдання 1.\n",
        "В шаблоні наведені числові вектори $\\overline{a}$ та $\\overline{b}$. Порахуй наступне:\n",
        "- сума $\\overline{a}$ та $\\overline{b}$\n",
        "- різниця $\\overline{a}$ та $\\overline{b}$\n",
        "- сума $\\overline{a}$ та $\\overline{b}^T$. Поясни отриманий результат.\n",
        "- матричний добуток (dot product) $\\overline{a}$ та $\\overline{b}^T$.\n",
        "- матричний добуток (dot product) $\\overline{a}$ та $\\overline{b}$. Поясни отриманий результат.\n",
        "- добуток Адамара (Hadamard product) $\\overline{a}$ та $\\overline{b}$. Поясни отриманий результат.\n",
        "- ділення $\\overline{a}$ та $\\overline{b}$. Поясни отриманий результат.\n",
        "- ділення $\\overline{a}$ та $\\overline{b}^T$. Поясни отриманий результат."
      ],
      "metadata": {
        "id": "AQsl6FeF0Sq3"
      }
    },
    {
      "cell_type": "code",
      "source": [
        "import numpy as np\n",
        "a = np.array([[1, 2, 3, 4, 5]])\n",
        "b = np.array([[1/2, 1, 2, 3, 4]])"
      ],
      "metadata": {
        "id": "x_pAAV5I0Rqg"
      },
      "execution_count": 12,
      "outputs": []
    },
    {
      "cell_type": "code",
      "source": [
        "res = a + b\n",
        "res"
      ],
      "metadata": {
        "id": "-TcDgKRB0n-s",
        "colab": {
          "base_uri": "https://localhost:8080/"
        },
        "outputId": "d1e618ef-3937-48fd-e71a-faf267329da0"
      },
      "execution_count": 13,
      "outputs": [
        {
          "output_type": "execute_result",
          "data": {
            "text/plain": [
              "array([[1.5, 3. , 5. , 7. , 9. ]])"
            ]
          },
          "metadata": {},
          "execution_count": 13
        }
      ]
    },
    {
      "cell_type": "code",
      "source": [
        "res = a - b\n",
        "res"
      ],
      "metadata": {
        "id": "CcIk7MVQ1xgq",
        "colab": {
          "base_uri": "https://localhost:8080/"
        },
        "outputId": "d2496f90-9151-440c-d1eb-2aa3d929db7a"
      },
      "execution_count": 14,
      "outputs": [
        {
          "output_type": "execute_result",
          "data": {
            "text/plain": [
              "array([[0.5, 1. , 1. , 1. , 1. ]])"
            ]
          },
          "metadata": {},
          "execution_count": 14
        }
      ]
    },
    {
      "cell_type": "code",
      "source": [
        "# Пояснення: сума звичайної(1*5) та транспанованої матриці(5*1).\n",
        "\n",
        "res = a + np.transpose(b)\n",
        "res"
      ],
      "metadata": {
        "id": "exb6q60N0uFv",
        "colab": {
          "base_uri": "https://localhost:8080/"
        },
        "outputId": "1610b6ac-8847-43d3-b7d9-30cd5956b83e"
      },
      "execution_count": 15,
      "outputs": [
        {
          "output_type": "execute_result",
          "data": {
            "text/plain": [
              "array([[1.5, 2.5, 3.5, 4.5, 5.5],\n",
              "       [2. , 3. , 4. , 5. , 6. ],\n",
              "       [3. , 4. , 5. , 6. , 7. ],\n",
              "       [4. , 5. , 6. , 7. , 8. ],\n",
              "       [5. , 6. , 7. , 8. , 9. ]])"
            ]
          },
          "metadata": {},
          "execution_count": 15
        }
      ]
    },
    {
      "cell_type": "code",
      "source": [
        "res = np.dot(a, np.transpose(b))\n",
        "res"
      ],
      "metadata": {
        "id": "oZB7Kx5_1c29",
        "colab": {
          "base_uri": "https://localhost:8080/"
        },
        "outputId": "60b6bfc7-ea3b-4649-c38a-4406136099f9"
      },
      "execution_count": 16,
      "outputs": [
        {
          "output_type": "execute_result",
          "data": {
            "text/plain": [
              "array([[40.5]])"
            ]
          },
          "metadata": {},
          "execution_count": 16
        }
      ]
    },
    {
      "cell_type": "code",
      "source": [
        "# Пояснення: добуток двох матриць(1*5)\n",
        "res = np.dot(a, b)\n",
        "res"
      ],
      "metadata": {
        "id": "PbRyd3630xud",
        "colab": {
          "base_uri": "https://localhost:8080/",
          "height": 176
        },
        "outputId": "0b1d82a2-dad0-4411-ff8d-9a8187016823"
      },
      "execution_count": 17,
      "outputs": [
        {
          "output_type": "error",
          "ename": "ValueError",
          "evalue": "shapes (1,5) and (1,5) not aligned: 5 (dim 1) != 1 (dim 0)",
          "traceback": [
            "\u001b[0;31m---------------------------------------------------------------------------\u001b[0m",
            "\u001b[0;31mValueError\u001b[0m                                Traceback (most recent call last)",
            "\u001b[0;32m<ipython-input-17-dcb5b0e35cad>\u001b[0m in \u001b[0;36m<cell line: 2>\u001b[0;34m()\u001b[0m\n\u001b[1;32m      1\u001b[0m \u001b[0;31m# Пояснення: добуток двох матриць(1*5)\u001b[0m\u001b[0;34m\u001b[0m\u001b[0;34m\u001b[0m\u001b[0m\n\u001b[0;32m----> 2\u001b[0;31m \u001b[0mres\u001b[0m \u001b[0;34m=\u001b[0m \u001b[0mnp\u001b[0m\u001b[0;34m.\u001b[0m\u001b[0mdot\u001b[0m\u001b[0;34m(\u001b[0m\u001b[0ma\u001b[0m\u001b[0;34m,\u001b[0m \u001b[0mb\u001b[0m\u001b[0;34m)\u001b[0m\u001b[0;34m\u001b[0m\u001b[0;34m\u001b[0m\u001b[0m\n\u001b[0m\u001b[1;32m      3\u001b[0m \u001b[0mres\u001b[0m\u001b[0;34m\u001b[0m\u001b[0;34m\u001b[0m\u001b[0m\n",
            "\u001b[0;31mValueError\u001b[0m: shapes (1,5) and (1,5) not aligned: 5 (dim 1) != 1 (dim 0)"
          ]
        }
      ]
    },
    {
      "cell_type": "code",
      "source": [
        "# Пояснення: поелементне множення двох матриць.\n",
        "res = np.multiply(a, b)\n",
        "res"
      ],
      "metadata": {
        "id": "QPHTXr83ly7o",
        "colab": {
          "base_uri": "https://localhost:8080/"
        },
        "outputId": "f3d0eca5-9e5c-4c7a-8525-01316876ccb1"
      },
      "execution_count": 18,
      "outputs": [
        {
          "output_type": "execute_result",
          "data": {
            "text/plain": [
              "array([[ 0.5,  2. ,  6. , 12. , 20. ]])"
            ]
          },
          "metadata": {},
          "execution_count": 18
        }
      ]
    },
    {
      "cell_type": "code",
      "source": [
        "# Пояснення: поелементне ділення двох матриць.\n",
        "res = a / b\n",
        "res"
      ],
      "metadata": {
        "id": "9mAIEbkQ1pJH",
        "colab": {
          "base_uri": "https://localhost:8080/"
        },
        "outputId": "5a23d238-8d67-4981-facc-88a9120121ce"
      },
      "execution_count": 19,
      "outputs": [
        {
          "output_type": "execute_result",
          "data": {
            "text/plain": [
              "array([[2.        , 2.        , 1.5       , 1.33333333, 1.25      ]])"
            ]
          },
          "metadata": {},
          "execution_count": 19
        }
      ]
    },
    {
      "cell_type": "code",
      "source": [
        "# Пояснення: поелементне ділення звичайної(1*5) та транспанованої матриці(5*1).\n",
        "res = a / np.transpose(b)\n",
        "res"
      ],
      "metadata": {
        "id": "pozfWRdc1qF9",
        "colab": {
          "base_uri": "https://localhost:8080/",
          "height": 176
        },
        "outputId": "6a8bef1b-4db4-4371-f0a0-26db2dd39cf4"
      },
      "execution_count": 11,
      "outputs": [
        {
          "output_type": "error",
          "ename": "NameError",
          "evalue": "name 'a' is not defined",
          "traceback": [
            "\u001b[0;31m---------------------------------------------------------------------------\u001b[0m",
            "\u001b[0;31mNameError\u001b[0m                                 Traceback (most recent call last)",
            "\u001b[0;32m<ipython-input-11-eecdee24a5f5>\u001b[0m in \u001b[0;36m<cell line: 2>\u001b[0;34m()\u001b[0m\n\u001b[1;32m      1\u001b[0m \u001b[0;31m# Пояснення: поелементне ділення звичайної(1*5) та транспанованої матриці(5*1).\u001b[0m\u001b[0;34m\u001b[0m\u001b[0;34m\u001b[0m\u001b[0m\n\u001b[0;32m----> 2\u001b[0;31m \u001b[0mres\u001b[0m \u001b[0;34m=\u001b[0m \u001b[0ma\u001b[0m \u001b[0;34m/\u001b[0m \u001b[0mnp\u001b[0m\u001b[0;34m.\u001b[0m\u001b[0mtranspose\u001b[0m\u001b[0;34m(\u001b[0m\u001b[0mb\u001b[0m\u001b[0;34m)\u001b[0m\u001b[0;34m\u001b[0m\u001b[0;34m\u001b[0m\u001b[0m\n\u001b[0m\u001b[1;32m      3\u001b[0m \u001b[0mres\u001b[0m\u001b[0;34m\u001b[0m\u001b[0;34m\u001b[0m\u001b[0m\n",
            "\u001b[0;31mNameError\u001b[0m: name 'a' is not defined"
          ]
        }
      ]
    },
    {
      "cell_type": "markdown",
      "source": [
        "# Завдання 2\n",
        "В цьому завданні ти навчишся перетворювати вектори за допомогою афінних перетворень.  \n",
        "Дано вектор:\n",
        "$$\n",
        "x =\n",
        "\\left(\\begin{array}{cc}\n",
        "2\\\\\n",
        "1\n",
        "\\end{array}\\right)\n",
        "$$\n",
        "\n",
        "\n",
        "Виконай аналітично наступні завдання задавши матрицю перетворення та застосуй її до вектора $x$:\n",
        "\n",
        "1. Зменши вектор $x$ в 2 рази по вісі $OX$ та збільш в 3 рази по вісі $OY$.\n",
        "2. Відобрази вектор $x$ відносно початку координат.\n",
        "3. Перенеси вектор $x$ на -3 по вісі $OX$ та на 1 по вісі $OY$.\n",
        "4. Змісти вектор $x$ на 60° по вісі $OY$.\n",
        "5. Поверни вектор $x$ на 30°.\n",
        "6. Об'єднай перетворення з кроків 1, 2, 4, 5 в одну матрицю та застосуй її до вектору $x$."
      ],
      "metadata": {
        "id": "W-FFJ2oK0TTF"
      }
    },
    {
      "cell_type": "markdown",
      "source": [],
      "metadata": {
        "id": "coRcpu8kgMqh"
      }
    },
    {
      "cell_type": "code",
      "source": [
        "import numpy as np\n",
        "\n",
        "x = np.array([2, 1])"
      ],
      "metadata": {
        "id": "YuZXXfYIm0U9"
      },
      "execution_count": 20,
      "outputs": []
    },
    {
      "cell_type": "markdown",
      "source": [
        "#### 2.1 Зменши вектор  $x$  в 2 рази по вісі  OX  та збільш в 3 рази по вісі  OY ."
      ],
      "metadata": {
        "id": "6G4BWKMB33NV"
      }
    },
    {
      "cell_type": "markdown",
      "source": [
        "$$\n",
        "M_1 =\n",
        "\\left (\\begin{array}{cc}\n",
        "? & ?\\\\\n",
        "? & ?\n",
        "\\end{array}\\right)\n",
        "$$\n",
        "\n",
        "$$\n",
        "M_1x =\n",
        "\\left(\\begin{array}{cc}\n",
        "? & ?\\\\\n",
        "? & ?\n",
        "\\end{array}\\right)\n",
        "\\left (\\begin{array}{cc}\n",
        "2\\\\\n",
        "1\n",
        "\\end{array}\\right)=\n",
        "\\left(\\begin{array}{cc}\n",
        "? \\cdot 2 + ? \\cdot 1\\\\\n",
        "? \\cdot 2 + ? \\cdot 1\n",
        "\\end{array}\\right)=\n",
        "\\left(\\begin{array}{cc}\n",
        "?\\\\\n",
        "?\n",
        "\\end{array}\\right)\n",
        "$$"
      ],
      "metadata": {
        "id": "_BvcoZCyg8nk"
      }
    },
    {
      "cell_type": "code",
      "source": [
        "m1 = np.array([[2, 0],\n",
        "               [0, 3]])\n",
        "\n",
        "m1_x = np.dot(m1, x)\n",
        "m1_x"
      ],
      "metadata": {
        "colab": {
          "base_uri": "https://localhost:8080/"
        },
        "id": "MHrO8PyimoIF",
        "outputId": "20e16b7f-1d39-4b0b-8a6c-d2937ae337fe"
      },
      "execution_count": 21,
      "outputs": [
        {
          "output_type": "execute_result",
          "data": {
            "text/plain": [
              "array([4, 3])"
            ]
          },
          "metadata": {},
          "execution_count": 21
        }
      ]
    },
    {
      "cell_type": "markdown",
      "source": [
        "#### 2.2 Відобрази вектор $x$ відносно початку координат."
      ],
      "metadata": {
        "id": "Rlhpc8-24M9k"
      }
    },
    {
      "cell_type": "markdown",
      "source": [
        "$$\n",
        "M_2 = ?\n",
        "\\\\\n",
        "M_2x = ?\n",
        "$$"
      ],
      "metadata": {
        "id": "35Ld0CHYgsXY"
      }
    },
    {
      "cell_type": "code",
      "source": [
        "m2 = np.eye(2, dtype=int)\n",
        "\n",
        "m2_x = np.dot(m2, x)\n",
        "m2_x"
      ],
      "metadata": {
        "colab": {
          "base_uri": "https://localhost:8080/"
        },
        "id": "8chBX-CFn2zK",
        "outputId": "7b49c5ea-b7ff-4ebf-cfe0-d904ac49bddf"
      },
      "execution_count": 22,
      "outputs": [
        {
          "output_type": "execute_result",
          "data": {
            "text/plain": [
              "array([2, 1])"
            ]
          },
          "metadata": {},
          "execution_count": 22
        }
      ]
    },
    {
      "cell_type": "markdown",
      "source": [
        "#### 2.3 Перенеси вектор $x$ на -3 по вісі $OX$ та на 1 по вісі $OY$."
      ],
      "metadata": {
        "id": "V5AiNUx14MvZ"
      }
    },
    {
      "cell_type": "markdown",
      "source": [
        "$$\n",
        "M_3 = ?\n",
        "\\\\\n",
        "M_3x = ?\n",
        "$$"
      ],
      "metadata": {
        "id": "qtzBmsNcgpQA"
      }
    },
    {
      "cell_type": "code",
      "source": [
        "m3 = np.array([[-3, 0],\n",
        "              [0, 1]])\n",
        "\n",
        "m3_x = np.dot(m3, x)\n",
        "m3_x"
      ],
      "metadata": {
        "colab": {
          "base_uri": "https://localhost:8080/"
        },
        "id": "wXfxJfYhqpB9",
        "outputId": "113dd50a-ceaf-4d5d-b96f-3c24fbb11ae8"
      },
      "execution_count": 23,
      "outputs": [
        {
          "output_type": "execute_result",
          "data": {
            "text/plain": [
              "array([-6,  1])"
            ]
          },
          "metadata": {},
          "execution_count": 23
        }
      ]
    },
    {
      "cell_type": "markdown",
      "source": [
        "#### 2.4 Змісти вектор $x$ на 60° по вісі $OY$.\n"
      ],
      "metadata": {
        "id": "VfjTQ4li9Neq"
      }
    },
    {
      "cell_type": "markdown",
      "source": [
        "$$\n",
        "M_4 = ?\n",
        "\\\\\n",
        "M_4x = ?\n",
        "$$"
      ],
      "metadata": {
        "id": "1-0_aTZiglze"
      }
    },
    {
      "cell_type": "code",
      "source": [
        "rad = np.radians(60)\n",
        "\n",
        "m4 = np.array([[np.cos(rad), -np.sin(rad)],\n",
        "                [np.sin(rad), np.cos(rad)]])\n",
        "\n",
        "m4_x = np.dot(m4, x)\n",
        "m4_x"
      ],
      "metadata": {
        "colab": {
          "base_uri": "https://localhost:8080/"
        },
        "id": "nD9lpY4Gs8WJ",
        "outputId": "5e78b48f-12d6-4875-ea79-3565575b7304"
      },
      "execution_count": 24,
      "outputs": [
        {
          "output_type": "execute_result",
          "data": {
            "text/plain": [
              "array([0.1339746 , 2.23205081])"
            ]
          },
          "metadata": {},
          "execution_count": 24
        }
      ]
    },
    {
      "cell_type": "markdown",
      "source": [
        "#### 2.5 Поверни вектор $x$ на 30°."
      ],
      "metadata": {
        "id": "F5dbVgGr9RCD"
      }
    },
    {
      "cell_type": "markdown",
      "source": [
        "$$\n",
        "M_5 = ?\n",
        "\\\\\n",
        "M_5x = ?\n",
        "$$"
      ],
      "metadata": {
        "id": "ABCk4cPhg2Zp"
      }
    },
    {
      "cell_type": "code",
      "source": [
        "rad_5 = np.radians(30)\n",
        "\n",
        "m5 = np.array([[np.cos(rad_5), -np.sin(rad_5)],\n",
        "                [np.sin(rad_5), np.cos(rad_5)]])\n",
        "\n",
        "m5_x = np.dot(m5, x)\n",
        "m5_x"
      ],
      "metadata": {
        "colab": {
          "base_uri": "https://localhost:8080/"
        },
        "id": "7nMoNuYEt8y6",
        "outputId": "375bce79-30fd-4b94-c103-ac9921310f58"
      },
      "execution_count": 25,
      "outputs": [
        {
          "output_type": "execute_result",
          "data": {
            "text/plain": [
              "array([1.23205081, 1.8660254 ])"
            ]
          },
          "metadata": {},
          "execution_count": 25
        }
      ]
    },
    {
      "cell_type": "markdown",
      "source": [
        "#### 2.6 Об'єднай перетворення з кроків 1, 2, 4, 5 в одну матрицю та застосуй її до вектору $x$."
      ],
      "metadata": {
        "id": "nXJQVzee9RTp"
      }
    },
    {
      "cell_type": "markdown",
      "source": [
        "$$\n",
        "M_6 = M_5 \\cdot M_4 \\cdot M_2 \\cdot M_1 = ?\n",
        "$$"
      ],
      "metadata": {
        "id": "NzEYWaaZHUGm"
      }
    },
    {
      "cell_type": "markdown",
      "source": [
        "$$\n",
        "M_6 =\n",
        "\\left (\\begin{array}{cc}\n",
        "? & ?\\\\\n",
        "? & ?\n",
        "\\end{array}\\right)\n",
        "\\\\\n",
        "M_6x = ?\n",
        "$$"
      ],
      "metadata": {
        "id": "483K8PxWY0Na"
      }
    },
    {
      "cell_type": "code",
      "source": [
        "m6 = np.dot(m5, np.dot(m4, np.dot(m2, m1)), d)\n",
        "\n",
        "m6_x = np.dot(m6, x)\n",
        "m6_x"
      ],
      "metadata": {
        "id": "krE4_MLkCchf",
        "colab": {
          "base_uri": "https://localhost:8080/"
        },
        "outputId": "0608fe82-7430-42b5-c4de-3f894ab30459"
      },
      "execution_count": 27,
      "outputs": [
        {
          "output_type": "execute_result",
          "data": {
            "text/plain": [
              "array([-3.,  4.])"
            ]
          },
          "metadata": {},
          "execution_count": 27
        }
      ]
    },
    {
      "cell_type": "markdown",
      "source": [
        "# Завдання 2 (Альтернативне)"
      ],
      "metadata": {
        "id": "4Hskh6fFb89N"
      }
    },
    {
      "cell_type": "code",
      "source": [
        "import cv2 as cv\n",
        "import urllib\n",
        "import numpy as np\n",
        "from google.colab.patches import cv2_imshow as cv_imshow\n",
        "\n",
        "# Read an image\n",
        "def read_image_by_url(url):\n",
        "    req = urllib.request.urlopen(url)\n",
        "    arr = np.asarray(bytearray(req.read()), dtype=np.uint8)\n",
        "    img = cv.imdecode(arr, -1)\n",
        "    return img\n",
        "\n",
        "url = ''\n",
        "\n",
        "img = read_image_by_url(url)"
      ],
      "metadata": {
        "id": "T9X-m9XvdlPK"
      },
      "execution_count": null,
      "outputs": []
    },
    {
      "cell_type": "code",
      "source": [
        "cv_imshow(img)"
      ],
      "metadata": {
        "id": "3oDsfgd25Rx7"
      },
      "execution_count": null,
      "outputs": []
    },
    {
      "cell_type": "code",
      "source": [],
      "metadata": {
        "id": "XmpNfQZpira8"
      },
      "execution_count": null,
      "outputs": []
    }
  ]
}